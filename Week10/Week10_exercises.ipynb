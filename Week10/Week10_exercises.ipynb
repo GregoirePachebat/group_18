{
 "cells": [
  {
   "cell_type": "markdown",
   "id": "c14ad766",
   "metadata": {},
   "source": [
    "# Exercises Week 10: Simulating stochasticity in gene expression\n",
    "\n",
    "**Course**: [Life Sciences engineering: genome to function](https://go.epfl.ch/BIO-411) (BIO-411)\n",
    "\n",
    "**Professors**:  _Gönczy Pierre_, _Naef Felix_, _McCabe Brian Donal_\n",
    "\n",
    "SSV, MA, 2023-2024\n"
   ]
  },
  {
   "cell_type": "markdown",
   "id": "4537afdb",
   "metadata": {},
   "source": [
    "In today's exercise session, we will simulate the chemical master equation (CME) of two processes using the Gillespie algorithm.  \n",
    "\n",
    "* In *Exercise 1*, you will consider a simple birth-death process and study its properties.  \n",
    "  \n",
    "* In *Exercise 2*, you will simulate a chemical oscillator known as the *Brusselator*"
   ]
  },
  {
   "cell_type": "code",
   "execution_count": null,
   "id": "ffff463e",
   "metadata": {},
   "outputs": [],
   "source": [
    "#import librairies\n",
    "\n",
    "import numpy as np\n",
    "import matplotlib.pyplot as plt\n",
    "from scipy.stats import poisson\n",
    "from scipy.integrate import odeint"
   ]
  },
  {
   "cell_type": "markdown",
   "id": "33667c85",
   "metadata": {},
   "source": [
    "# Exercise 1: Probabilistic description of the Birth-death process\n",
    "Let's consider a simple birth-death process in which molecules are produced at a rate $s$ (probability of producing a new molecule per unit of time) and degraded at a rate $k$.  \n",
    "\n",
    "The four possible reactions can be described as follow:\n",
    "$$\n",
    "\\begin{array}{lll}\n",
    "n-1 & \\longrightarrow n & \\text{with rate } s \\\\\n",
    "n & \\longrightarrow n+1 & \\text{with rate } s \\\\\n",
    "n+1 & \\longrightarrow n  & \\text{with rate } k(n+1) \\\\\n",
    "n & \\longrightarrow n-1 & \\text{with rate } kn\n",
    "\\end{array}\n",
    "$$\n",
    "\n",
    "From those, we can describe the master equation which gives the probability $P(n,t)$ to have $n$ molecules of the compound at time $t$:  \n",
    "\n",
    "$$\n",
    "\\frac{dP(n,t)}{dt} = sP(n-1,t) + k(n+1)P(n+1,t) - (s + kn)P(n,t)\n",
    "$$\n"
   ]
  },
  {
   "cell_type": "markdown",
   "id": "cd889f66",
   "metadata": {},
   "source": [
    "### Question 1\n",
    "Simulate the birth-death process using the code for the Gillespie algorithm provided below.  \n",
    "\n",
    "1. Study the provided code. Identify and describe the sequence of steps the algorithm uses to simulate the birth-death process. Explain how it selects the time for the next reaction and determines which reaction will occur.  \n",
    "\n",
    "2. Inspect the code for sections marked with 'FILL HERE'. Complete these sections with the appropriate code to fulfill the algorithm's requirements.  \n",
    "\n",
    "3. Execute the completed Gillespie simulation of the birth-death process multiple times. Describe the behavior of the molecule counts over time.\n",
    "\n",
    "4. Using the results from your simulations and the code below, verify that the steady-state distribution of the molecule count $n$ follows a Poisson distribution. You can do this by comparing the empirical distribution from the simulation to the theoretical Poisson distribution with parameter $\\lambda$. \n",
    "\n",
    "5. Investigate how the synthesis rate $s$ and degradation rate $k$ influence the steady-state distribution. Discuss how varying these parameters alters the shape and parameters of the Poisson distribution?"
   ]
  },
  {
   "cell_type": "markdown",
   "id": "7d8a763a",
   "metadata": {},
   "source": [
    "### Answer 1\n",
    "1. Write your answers here  \n",
    "\n",
    "2. Write your answers here  \n",
    "\n",
    "3. Write your answers here  \n",
    "\n",
    "4. Write your answers here  \n"
   ]
  },
  {
   "cell_type": "markdown",
   "id": "596d70ec",
   "metadata": {},
   "source": [
    "#### Gillespie algorithm for the birth-death process:"
   ]
  },
  {
   "cell_type": "code",
   "execution_count": null,
   "id": "ecb8bd64",
   "metadata": {},
   "outputs": [],
   "source": [
    "def simulate_birth_death_process(s, k, total_time, n_0=0, t_0=0):\n",
    "    \"\"\"\n",
    "    Simulate the birth-death process using the Gillespie algorithm.\n",
    "\n",
    "    Parameters:\n",
    "    s: The rate at which new molecules are produced [molecules per unit time].\n",
    "    k: The degration rate [hr^-1].\n",
    "    total_time: Total simulation time [hr] (should be choosen according to the half-life time).\n",
    "    n_0: Initial number of molecules.\n",
    "    t_0: Initial time.\n",
    "\n",
    "    Returns:\n",
    "    n: The number of molecules at each time step.\n",
    "    t: The time at each time step.\n",
    "    \"\"\"\n",
    "\n",
    "    # Initialize molecule count and time lists\n",
    "    n = [n_0] # Initial number of molecules\n",
    "    t = [t_0]  # Initial time\n",
    "\n",
    "    # Run the simulation until the end time is reached\n",
    "    while t[-1] < total_time:\n",
    "        current_n = n[-1]\n",
    "        \n",
    "        # Define the rates for production and degradation\n",
    "        rates = [..., ...] # FILL HERE\n",
    "        \n",
    "        # Calculate the total rate\n",
    "        rates_tot = sum(rates)\n",
    "        \n",
    "        # Pick the next time interval using an exponential distribution\n",
    "        dt = np.random.exponential(scale=1/rates_tot) # scale is 1/lambda\n",
    "        t.append(t[-1] + dt)\n",
    "        \n",
    "        # Generate a random number to decide the next event\n",
    "        rand_uniform = np.random.random()\n",
    "        \n",
    "        # Determine whether a birth or death event occurs\n",
    "        if rand_uniform <= (rates[0] / rates_tot):\n",
    "            n.append(...)  # Birth event, FILL HERE\n",
    "        else:\n",
    "            n.append(...)  # Death event, FIL HERE\n",
    "\n",
    "    return n, t\n",
    "\n",
    "def plot_simulation_results(t, n, transient_cutoff, poisson_lambda):\n",
    "    \"\"\"\n",
    "    Plot the results of the birth-death process simulation and compare with Poisson distribution.\n",
    "\n",
    "    Parameters:\n",
    "    t: The time points of the simulation.\n",
    "    n: The number of molecules at each time point.\n",
    "    transient_cutoff: The number of initial time points to exclude from histogram.\n",
    "    poisson_lambda: The lambda parameter for the Poisson distribution.\n",
    "    \"\"\"\n",
    "    \n",
    "    # Plot the time evolution of molecule count\n",
    "    plt.figure(figsize=(15, 5))\n",
    "    plt.plot(t, n)\n",
    "    plt.xlabel(\"time [hr]\")\n",
    "    plt.ylabel(\"n molecules\")\n",
    "    plt.title(\"Time Evolution of Molecule Count\")\n",
    "    plt.show()   \n",
    "\n",
    "    # Plot the histogram after removing transient\n",
    "    plt.hist(n[transient_cutoff:], bins=100, label='nb. occurrence')\n",
    "    ntot = len(n[transient_cutoff:])\n",
    "    \n",
    "    # Generate Poisson distributed samples\n",
    "    nn = np.arange(max(n[transient_cutoff:]))\n",
    "    p = poisson.pmf(poisson_lambda, nn)\n",
    "    p = p * ntot  # Scale by the total number of observations\n",
    "    \n",
    "    # Plot the Poisson distribution\n",
    "    plt.plot(nn, p, label='Poisson(lambda)*ntot')\n",
    "    plt.xlabel(\"n molecules\")\n",
    "    plt.ylabel(\"Probability\")\n",
    "    plt.title(\"Histogram of Molecule Count with Poisson Distribution\")\n",
    "    \n",
    "    plt.legend()\n",
    "    plt.show()"
   ]
  },
  {
   "cell_type": "markdown",
   "id": "a17808f5",
   "metadata": {},
   "source": [
    "#### Run the simulation"
   ]
  },
  {
   "cell_type": "code",
   "execution_count": null,
   "id": "03adc67a",
   "metadata": {},
   "outputs": [],
   "source": [
    "# Parameters for the simulation\n",
    "s = 20  # Synthesis rate in molecules per unit time\n",
    "k = 1  # Degradation rate in hr^-1\n",
    "total_time = 200  # Total simulation time in hours\n",
    "\n",
    "# Run the simulation\n",
    "molecule_count, time_points = simulate_birth_death_process(s, k, total_time)"
   ]
  },
  {
   "cell_type": "markdown",
   "id": "9b40e5c7",
   "metadata": {},
   "source": [
    "#### Plot the trajectory and histogram"
   ]
  },
  {
   "cell_type": "code",
   "execution_count": null,
   "id": "f5430865",
   "metadata": {},
   "outputs": [],
   "source": [
    "# Parameters for plotting\n",
    "transient_cutoff = 20  # Adjust as needed to remove the transient part for the histogramm\n",
    "poisson_lambda = 20    # Change lambda to fit the histogram\n",
    "\n",
    "# Call the plotting function with simulation results and parameters\n",
    "plot_simulation_results(time_points, molecule_count, transient_cutoff, poisson_lambda)"
   ]
  },
  {
   "cell_type": "markdown",
   "id": "4814dc75",
   "metadata": {},
   "source": [
    "# Exercise 2: The Brusselator"
   ]
  },
  {
   "cell_type": "markdown",
   "id": "3323b4a8",
   "metadata": {},
   "source": [
    "The Brusselator (proposed in 1967 in Brussels by R. Lefever I. Prigogine et G. Nicolis) describes a chemical oscillator governed by the following chemical reactions:"
   ]
  },
  {
   "cell_type": "markdown",
   "id": "157c5397",
   "metadata": {},
   "source": [
    "$$\n",
    "\\begin{array}{|c|c|c|c|}\n",
    "\\hline\n",
    "\\text{Reaction} & \\text{Reaction Rate} & \\frac{dX}{dt} & \\frac{dY}{dt} \\\\\n",
    "\\hline\n",
    "\\emptyset \\xrightarrow{k_1} X & v_1 = k_1 & +v_1 & 0 \\\\\n",
    "X \\xrightarrow{k_2} Y & v_2 = k_2 X & -v_2 & +v_2 \\\\\n",
    "2X + Y \\xrightarrow{k_3} 3X & v_3 = k_3 X^2 Y & +v_3 & -v_3 \\\\\n",
    "X \\xrightarrow{k_4} \\emptyset & v_4 = k_4 X & -v_4 & 0 \\\\\n",
    "\\hline\n",
    "\\end{array}\n",
    "$$\n",
    "\n"
   ]
  },
  {
   "cell_type": "markdown",
   "id": "67b43652",
   "metadata": {},
   "source": [
    "The determinisitic equations for the concentrations $X$ and $Y$ are given by:"
   ]
  },
  {
   "cell_type": "markdown",
   "id": "1b45be7a",
   "metadata": {},
   "source": [
    "$$\n",
    "\\begin{align*}\n",
    "\\frac{dX}{dt} &= k_1 - k_2X + k_3X^2Y - k_4X \\\\\n",
    "\\frac{dY}{dt} &= k_2X - k_3X^2Y\n",
    "\\end{align*}\n",
    "$$\n"
   ]
  },
  {
   "cell_type": "markdown",
   "id": "aab48a33",
   "metadata": {},
   "source": [
    "In the stochastic description of this process, we have to associate to each reaction a transition probability (with $n$ and $m$, the number of molecules  of $X$ and $Y$, respectively):"
   ]
  },
  {
   "cell_type": "markdown",
   "id": "ac1e92eb",
   "metadata": {},
   "source": [
    "$$\n",
    "\\begin{array}{|c|c|}\n",
    "\\hline\n",
    "\\text{Reaction} & \\text{Transition Rate} \\\\\n",
    "\\hline\n",
    "n \\rightarrow n + 1 & r_1 = k_1 \\Omega \\\\\n",
    "n \\rightarrow m & r_2 = k_2 n \\\\\n",
    "2n + m \\rightarrow 3n & r_3 = k_3 n(n-1)m \\Omega^{-2} \\\\\n",
    "n \\rightarrow n - 1 & r_4 = k_4 n \\\\\n",
    "\\hline\n",
    "\\end{array}\n",
    "$$\n"
   ]
  },
  {
   "cell_type": "markdown",
   "id": "81e4ab1b",
   "metadata": {},
   "source": [
    "In stochastic chemical kinetics, the system size $\\Omega$ represents the volume of the system. It is crucial for converting deterministic rate constants, which are typically given in concentrations per unit time, into stochastic transition rates, which are probabilities per unit time. For example, the rate constant $k_1$ has units of concentration over time. In a stochastic description, we are not dealing with concentrations but with the probabilities of individual reactions occurring in a system of size $\\Omega$. To convert this rate constant into a transition rate, we multiply by $\\Omega$  to adjust for the volume of the system. This ensures that $r_1$ has the correct units of 1/time, representing the probability per unit time of one more molecule appearing due to the reaction."
   ]
  },
  {
   "cell_type": "markdown",
   "id": "74e9de4f",
   "metadata": {},
   "source": [
    "### Question 1\n",
    "1. Below is a Python code snippet that simulates the Brusselator system using ODE. Your task is to fill in the missing parts where you see 'FILL HERE'.  \n",
    "\n",
    "2. Using the results of your simulation, create two plots: one for the concentration of $X$ and one for $Y$ as functions of time $t$. Analyze how changes in the parameters (e.g., reaction rates) influence the system. Look for oscillatory behavior and note what happens as you vary each parameter (code provided below).\n",
    "\n",
    "3. Generate a phase portrait by plotting $X$ versus $Y$ using the simulation data and describe how the parameters affect the limit cycle. Observe how the system behaves over time. Describe the impact of different parameters on the shape and stability of the limit cycle. Discuss any bifurcations or transitions between different types of behavior that you observe as parameters are varied (code provided below)."
   ]
  },
  {
   "cell_type": "markdown",
   "id": "cc95a619",
   "metadata": {},
   "source": [
    "### Answer 1\n",
    "1."
   ]
  },
  {
   "cell_type": "markdown",
   "id": "17ec1e04",
   "metadata": {},
   "source": [
    "#### Deterministic simulation of the Brusselator"
   ]
  },
  {
   "cell_type": "code",
   "execution_count": null,
   "id": "40691fd0",
   "metadata": {},
   "outputs": [],
   "source": [
    "## function definition\n",
    "def brusselator_ODE(y, t, k1, k2, k3, k4):\n",
    "    \"\"\"\n",
    "    Parameters:\n",
    "    Defines the ODEs for the Brusselator.\n",
    "    y : molecule concentrations [X, Y]\n",
    "    t : time\n",
    "    k1, k2, k3, k4 : rate constants\n",
    "\n",
    "    Returns:\n",
    "    dXdt, dYdt : time derivatives of the molecule concentrations\n",
    "    \"\"\"\n",
    "    X, Y = y\n",
    "    dXdt = ... # FILL HERE\n",
    "    dYdt = ... # FILL HERE\n",
    "\n",
    "    return [dXdt, dYdt]\n",
    "\n",
    "def run_simulation(func, parameters, initial_conditions = [1, 1], time_points = np.linspace(0, 10, 100)):\n",
    "    \n",
    "    \"\"\"\n",
    "    Runs a simulation of the ODE system.\n",
    "    \"\"\"\n",
    "\n",
    "    k_1, k_2, k_3, k_4 = parameters\n",
    "\n",
    "    solution = odeint(func, initial_conditions, time_points, args=(k_1,k_2,k_3,k_4))\n",
    "\n",
    "    return solution\n",
    "\n",
    "def plot_simulation_results(time_points, solution):\n",
    "\n",
    "    \"\"\"\n",
    "    Plot time-series and phase portrait.\n",
    "    \"\"\"\n",
    "    \n",
    "    X, Y = solution.T\n",
    "\n",
    "    # Plot X and Y as functions of time\n",
    "    plt.figure(figsize=(12, 5))\n",
    "    plt.subplot(1, 2, 1)  # 1 row, 2 columns, first subplot\n",
    "    plt.plot(time_points, X, label='X(t)')\n",
    "    plt.plot(time_points, Y, label='Y(t)')\n",
    "    plt.xlabel('Time')\n",
    "    plt.ylabel('Concentration')\n",
    "    plt.title('Time Series')\n",
    "    plt.legend(loc='upper right')\n",
    "\n",
    "    # Plot the phase portrait (X vs Y)\n",
    "    plt.subplot(1, 2, 2)  # 1 row, 2 columns, second subplot\n",
    "    plt.plot(X, Y)\n",
    "    plt.xlabel('X(t)')\n",
    "    plt.ylabel('Y(t)')\n",
    "    plt.title('Phase Portrait')\n",
    "\n",
    "    # Show the plots\n",
    "    plt.tight_layout()  # Adjust subplots to fit into figure area.\n",
    "    plt.show()"
   ]
  },
  {
   "cell_type": "markdown",
   "id": "c405efec",
   "metadata": {},
   "source": [
    "#### Run and plot the simulation"
   ]
  },
  {
   "cell_type": "code",
   "execution_count": null,
   "id": "5ee4c4b8",
   "metadata": {},
   "outputs": [],
   "source": [
    "initial_conditions = [1,1] #[X, Y]\n",
    "parameters = [2, 6, 1, 1]\n",
    "time = np.linspace(0, 100, 1001)\n",
    "solution = run_simulation(brusselator_ODE, parameters, initial_conditions, time)\n",
    "plot_simulation_results(time, solution)"
   ]
  },
  {
   "cell_type": "markdown",
   "id": "56126377",
   "metadata": {},
   "source": [
    "2. Write your answers here  \n",
    "\n",
    "3. Write your answers here"
   ]
  },
  {
   "cell_type": "markdown",
   "id": "b41278d3",
   "metadata": {},
   "source": [
    "### Question 2\n",
    "Simulate the Brusselator using the Gillespie algorithm code provided below:  \n",
    "\n",
    "1. Study the Gillespie algorithm code. Explain each step of the algorithm, detailing how it simulates the stochastic time evolution of the Brusselator.\n",
    "\n",
    "2. Identify the parts of the code annotated with 'FILL HERE' and write the code to complete the simulation.  \n",
    "\n",
    "3. Run the Gillespie algorithm to simulate the Brusselator process and describe the results. In particular, plot X and Y in function of time as well as the phase portrait X vs. Y (code provided). Compare these stochastic simulation results with those obtained from the deterministic model, discussing any differences or similarities in behavior.   \n",
    "\n",
    "4. Analyze how varying parameters, especially the system size $\\Omega$, influences the behavior of X and Y over time. Discuss how the system size affects the dynamics of the Brusselator?  \n",
    "\n",
    "5. Investigate how the number of Gillespie steps required to reach a certain time point scales with the system size $\\Omega$?  "
   ]
  },
  {
   "cell_type": "markdown",
   "id": "d9d3dd0c",
   "metadata": {},
   "source": [
    "#### Gillespie simulation of the Brusselator"
   ]
  },
  {
   "cell_type": "code",
   "execution_count": null,
   "id": "dbdfc6e9",
   "metadata": {},
   "outputs": [],
   "source": [
    "def run_gillespie(n0, m0, t_end, omega, parameters):\n",
    "    \"\"\"\n",
    "    Simulates the Brusselator process using the Gillespie stochastic simulation algorithm.\n",
    "\n",
    "    Parameters:\n",
    "    n0 : Initial count of species n.\n",
    "    m0 : Initial count of species m.\n",
    "    t_end : Total simulation time.\n",
    "    omega : System size parameter, related to volume.\n",
    "    parameters: k1, k2, k3, k4 reaction rate constants.\n",
    "\n",
    "    Returns:\n",
    "    n : Trajectory of species n counts over time.\n",
    "    m : Trajectory of species m counts over time.\n",
    "    t : Time points for each recorded state.\n",
    "    \"\"\"\n",
    "\n",
    "    n = [n0]  # Trajectory of species n\n",
    "    m = [m0]  # Trajectory of species m\n",
    "    t = [0]   # Time trajectory\n",
    "    k1, k2, k3, k4 = parameters\n",
    "    # Stoichiometric matrix S\n",
    "    S = np.array([[1, 0], [-1, 1], [1, -1], [-1, 0]])\n",
    "\n",
    "    while t[-1] < t_end:\n",
    "        current_n = n[-1]\n",
    "        current_m = m[-1]\n",
    "\n",
    "        # Calculate reaction rates\n",
    "        #FILL HERE\n",
    "        rates = [  \n",
    "            ...,\n",
    "            ...,\n",
    "            ...,\n",
    "            ...]\n",
    "\n",
    "        rates_tot = sum(rates)\n",
    "\n",
    "        # Determine time to next reaction\n",
    "        dt = np.random.exponential(scale=1.0 / rates_tot)\n",
    "        t.append(t[-1] + dt)\n",
    "\n",
    "        # Choose the next reaction\n",
    "        rand = np.random.random()        \n",
    "        rates_cumsum = np.cumsum(rates)/rates_tot\n",
    "\n",
    "        i=0\n",
    "        while rand >= rates_cumsum[i]:\n",
    "            i=i+1\n",
    "        chosen_react=i\n",
    "\n",
    "        # Update species counts\n",
    "        n.append(...)  #FILL HERE\n",
    "        m.append(current_m + S[chosen_react, 1])\n",
    "\n",
    "    return n, m, t\n",
    "\n",
    "def plot_results(t, n, m, results_det, omega):\n",
    "    \"\"\"\n",
    "    Plots the results of the Gillespie simulation for the Brusselator process.\n",
    "\n",
    "    Parameters:\n",
    "    t : Time points.\n",
    "    n : Counts of species N over time.\n",
    "    m : Counts of species Y over time.\n",
    "    results_det : Results from the deterministic simulation for comparison.\n",
    "    omega : System size parameter.\n",
    "    \"\"\"\n",
    "    \n",
    "    # Plot time series of n(t) and m(t)\n",
    "    plt.figure(figsize=(12, 5))\n",
    "    plt.plot(t, n, label='n(t)', color='blue')\n",
    "    plt.plot(t, m, label='m(t)', color='orange')\n",
    "    plt.xlabel('Time')\n",
    "    plt.ylabel('Number of molecules')\n",
    "    plt.title('Time Series')\n",
    "    plt.legend()\n",
    "    plt.show()\n",
    "    \n",
    "    # Plot phase portrait\n",
    "    plt.figure(figsize=(10, 10))\n",
    "    plt.plot(results_det[:, 0], results_det[:, 1], label='Deterministic', color='tomato', alpha=1)\n",
    "    plt.plot(np.array(n) / omega, np.array(m) / omega, label='Stochastic', color='forestgreen', alpha=0.4, lw=1)\n",
    "    plt.xlabel('Concentration (X or n/Ω)')\n",
    "    plt.ylabel('Concentration (Y or m/Ω)')\n",
    "    plt.title('Phase Portrait')\n",
    "    plt.legend()\n",
    "    plt.show()\n",
    "\n"
   ]
  },
  {
   "cell_type": "markdown",
   "id": "f79deefc",
   "metadata": {},
   "source": [
    "#### Run Gillespise and plot the trajectory and the phase portrait"
   ]
  },
  {
   "cell_type": "code",
   "execution_count": null,
   "id": "ed4dda2b",
   "metadata": {},
   "outputs": [],
   "source": [
    "#Define your parameters\n",
    "k1 = k3 = k4 = 1\n",
    "k2 = 1.5\n",
    "omega = 100\n",
    "t_end = 100\n",
    "initial_conditions = [1, 1]\n",
    "\n",
    "#Deterministic\n",
    "parameters = [k1, k2, k3, k4] #rate constants\n",
    "time = np.linspace(0, t_end, 1001)\n",
    "results_det = run_simulation(brusselator_ODE, parameters, initial_conditions, time)\n",
    "\n",
    "#Stochastic \n",
    "[n, m, t] = run_gillespie(initial_conditions[0] * omega, initial_conditions[1] * omega, t_end, omega, parameters)\n",
    "plot_results(t, n, m, results_det, omega)\n"
   ]
  },
  {
   "cell_type": "markdown",
   "id": "02ba9333",
   "metadata": {},
   "source": [
    "### Answer 2\n",
    "1. Write your answers here  \n",
    "\n",
    "2. Write your answers here  \n",
    "\n",
    "3. Write your answers here  \n",
    "\n",
    "4. Write your answers here  \n",
    "\n",
    "5. Write your answers here  \n"
   ]
  },
  {
   "cell_type": "markdown",
   "id": "3d84b0c5",
   "metadata": {},
   "source": []
  }
 ],
 "metadata": {
  "kernelspec": {
   "display_name": "Python 3 (ipykernel)",
   "language": "python",
   "name": "python3"
  },
  "language_info": {
   "codemirror_mode": {
    "name": "ipython",
    "version": 3
   },
   "file_extension": ".py",
   "mimetype": "text/x-python",
   "name": "python",
   "nbconvert_exporter": "python",
   "pygments_lexer": "ipython3",
   "version": "3.9.12"
  }
 },
 "nbformat": 4,
 "nbformat_minor": 5
}
